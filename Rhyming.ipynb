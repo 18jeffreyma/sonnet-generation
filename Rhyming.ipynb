{
 "cells": [
  {
   "cell_type": "code",
   "execution_count": 3,
   "metadata": {},
   "outputs": [],
   "source": [
    "import nltk\n",
    "from nltk.tokenize import TweetTokenizer, wordpunct_tokenize, sent_tokenize\n",
    "from nltk.corpus import cmudict\n",
    "\n",
    "tknzr = TweetTokenizer()"
   ]
  },
  {
   "cell_type": "code",
   "execution_count": 5,
   "metadata": {},
   "outputs": [],
   "source": [
    "contents = []\n",
    "\n",
    "with open('data/shakespeare_cleaned.txt') as f:\n",
    "    for line in f:\n",
    "        # Handles blank lines from original text file\n",
    "        if line != '\\n' and line != '                   \\n':\n",
    "            contents.append(line)\n",
    "# print(contents)"
   ]
  },
  {
   "cell_type": "code",
   "execution_count": 34,
   "metadata": {},
   "outputs": [],
   "source": [
    "token = [tknzr.tokenize(s) for s in contents]\n",
    "punct = set(['.', ',', '!', ':', ';', \"'\", '(', ')'])\n",
    "pron_dict = cmudict.dict()\n",
    "\n",
    "# All words in Shakespearean sonnets\n",
    "words = set()\n",
    "# Every last word in a line of a Shakespearean sonnet\n",
    "last = []\n",
    "for sentence in token:\n",
    "    index = -1\n",
    "    if sentence[-1] in punct:\n",
    "        index -= 1\n",
    "    # Chooses only words that are considered valid and have pronounciations in cmudict\n",
    "    if sentence[index] in pron_dict:\n",
    "        last.append(sentence[index])\n",
    "    for i in range(len(sentence) + index):\n",
    "        if sentence[i] not in punct and sentence[i] not in words and sentence[i] in pron_dict:\n",
    "            words.add(sentence[i].lower())\n",
    "        \n",
    "# print(words)\n",
    "# print(last)"
   ]
  },
  {
   "cell_type": "code",
   "execution_count": 13,
   "metadata": {},
   "outputs": [],
   "source": [
    "syllables = []\n",
    "for w in last:\n",
    "    temp = [] \n",
    "    pron = pron_dict[w]\n",
    "    for i in range(len(pron)):\n",
    "        temp.append(pron[i][-2:])\n",
    "\n",
    "    syllables.append(temp)\n",
    "    \n",
    "# print(syllables)"
   ]
  },
  {
   "cell_type": "code",
   "execution_count": 18,
   "metadata": {
    "scrolled": true
   },
   "outputs": [
    {
     "name": "stdout",
     "output_type": "stream",
     "text": [
      "1/1971\n",
      "2/1971\n",
      "3/1971\n",
      "4/1971\n",
      "5/1971\n",
      "6/1971\n",
      "7/1971\n"
     ]
    },
    {
     "ename": "KeyboardInterrupt",
     "evalue": "",
     "output_type": "error",
     "traceback": [
      "\u001b[0;31m---------------------------------------------------------------------------\u001b[0m",
      "\u001b[0;31mKeyboardInterrupt\u001b[0m                         Traceback (most recent call last)",
      "\u001b[0;32m<ipython-input-18-0cc64a49743a>\u001b[0m in \u001b[0;36m<module>\u001b[0;34m()\u001b[0m\n\u001b[1;32m      8\u001b[0m     \u001b[0mtemp\u001b[0m \u001b[0;34m=\u001b[0m \u001b[0;34m[\u001b[0m\u001b[0;34m]\u001b[0m\u001b[0;34m\u001b[0m\u001b[0;34m\u001b[0m\u001b[0m\n\u001b[1;32m      9\u001b[0m     \u001b[0;32mfor\u001b[0m \u001b[0msyl\u001b[0m \u001b[0;32min\u001b[0m \u001b[0msyllables\u001b[0m\u001b[0;34m[\u001b[0m\u001b[0mi\u001b[0m\u001b[0;34m]\u001b[0m\u001b[0;34m:\u001b[0m\u001b[0;34m\u001b[0m\u001b[0;34m\u001b[0m\u001b[0m\n\u001b[0;32m---> 10\u001b[0;31m         \u001b[0;32mfor\u001b[0m \u001b[0;34m(\u001b[0m\u001b[0mw\u001b[0m\u001b[0;34m,\u001b[0m \u001b[0mp\u001b[0m\u001b[0;34m)\u001b[0m \u001b[0;32min\u001b[0m \u001b[0mcmudict\u001b[0m\u001b[0;34m.\u001b[0m\u001b[0mentries\u001b[0m\u001b[0;34m(\u001b[0m\u001b[0;34m)\u001b[0m\u001b[0;34m:\u001b[0m\u001b[0;34m\u001b[0m\u001b[0;34m\u001b[0m\u001b[0m\n\u001b[0m\u001b[1;32m     11\u001b[0m             \u001b[0;32mif\u001b[0m \u001b[0mw\u001b[0m \u001b[0;34m!=\u001b[0m \u001b[0mlast\u001b[0m\u001b[0;34m[\u001b[0m\u001b[0mi\u001b[0m\u001b[0;34m]\u001b[0m\u001b[0;34m:\u001b[0m\u001b[0;34m\u001b[0m\u001b[0;34m\u001b[0m\u001b[0m\n\u001b[1;32m     12\u001b[0m                 \u001b[0;32mif\u001b[0m \u001b[0msyl\u001b[0m \u001b[0;34m==\u001b[0m \u001b[0mp\u001b[0m\u001b[0;34m[\u001b[0m\u001b[0;34m-\u001b[0m\u001b[0;36m2\u001b[0m\u001b[0;34m:\u001b[0m\u001b[0;34m]\u001b[0m\u001b[0;34m:\u001b[0m\u001b[0;34m\u001b[0m\u001b[0;34m\u001b[0m\u001b[0m\n",
      "\u001b[0;32m/home/jksun/.local/lib/python3.6/site-packages/nltk/corpus/reader/util.py\u001b[0m in \u001b[0;36miterate_from\u001b[0;34m(self, start_tok)\u001b[0m\n\u001b[1;32m    342\u001b[0m             \u001b[0;31m# before start_tok).  Note that between yields, our state\u001b[0m\u001b[0;34m\u001b[0m\u001b[0;34m\u001b[0m\u001b[0;34m\u001b[0m\u001b[0m\n\u001b[1;32m    343\u001b[0m             \u001b[0;31m# may be modified.\u001b[0m\u001b[0;34m\u001b[0m\u001b[0;34m\u001b[0m\u001b[0;34m\u001b[0m\u001b[0m\n\u001b[0;32m--> 344\u001b[0;31m             \u001b[0;32mfor\u001b[0m \u001b[0mtok\u001b[0m \u001b[0;32min\u001b[0m \u001b[0mtokens\u001b[0m\u001b[0;34m[\u001b[0m\u001b[0mmax\u001b[0m\u001b[0;34m(\u001b[0m\u001b[0;36m0\u001b[0m\u001b[0;34m,\u001b[0m \u001b[0mstart_tok\u001b[0m \u001b[0;34m-\u001b[0m \u001b[0mtoknum\u001b[0m\u001b[0;34m)\u001b[0m \u001b[0;34m:\u001b[0m\u001b[0;34m]\u001b[0m\u001b[0;34m:\u001b[0m\u001b[0;34m\u001b[0m\u001b[0;34m\u001b[0m\u001b[0m\n\u001b[0m\u001b[1;32m    345\u001b[0m                 \u001b[0;32myield\u001b[0m \u001b[0mtok\u001b[0m\u001b[0;34m\u001b[0m\u001b[0;34m\u001b[0m\u001b[0m\n\u001b[1;32m    346\u001b[0m             \u001b[0;31m# If we're at the end of the file, then we're done.\u001b[0m\u001b[0;34m\u001b[0m\u001b[0;34m\u001b[0m\u001b[0;34m\u001b[0m\u001b[0m\n",
      "\u001b[0;31mKeyboardInterrupt\u001b[0m: "
     ]
    }
   ],
   "source": [
    "# Generate rhyming dictionary of all possible words for each valid last word of each line\n",
    "# Takes alot longer to generate\n",
    "rhyme_all = [] \n",
    "    \n",
    "count = 0\n",
    "for i in range(len(syllables)):\n",
    "    count += 1\n",
    "    print('%d/%d' % (count, len(syllables)))\n",
    "    temp = []\n",
    "    for syl in syllables[i]: \n",
    "        for (w, p) in cmudict.entries():\n",
    "            if w != last[i]:\n",
    "                if syl == p[-2:]:\n",
    "                    temp.append(w)\n",
    "    rhyme_all.append(temp)\n",
    "\n",
    "print(len(rhyme_all))"
   ]
  },
  {
   "cell_type": "code",
   "execution_count": 30,
   "metadata": {},
   "outputs": [
    {
     "name": "stdout",
     "output_type": "stream",
     "text": [
      "1971\n"
     ]
    }
   ],
   "source": [
    "# Generate rhyming dictionary of all possible words that appear \n",
    "# in Shakespearan sonnets for each valid last word of each line\n",
    "rhyme_sonnets = [] \n",
    "    \n",
    "count = 0\n",
    "for i in range(len(syllables)):\n",
    "    temp = []\n",
    "    for syl in syllables[i]: \n",
    "        for w in words:\n",
    "            if w != last[i]:\n",
    "                pron = pron_dict[w]\n",
    "                for p in pron:\n",
    "                    if syl == p[-2:]:\n",
    "                        temp.append(w)\n",
    "    rhyme_sonnets.append(temp)\n",
    "\n",
    "# print(rhyme_sonnets)\n",
    "print(len(rhyme_sonnets))"
   ]
  },
  {
   "cell_type": "code",
   "execution_count": 32,
   "metadata": {},
   "outputs": [
    {
     "name": "stdout",
     "output_type": "stream",
     "text": [
      "groan\n",
      "[['OW1', 'N']]\n",
      "['own', 'moan', 'alone', 'known', 'grown', 'flown', 'unknown', 'stone']\n"
     ]
    }
   ],
   "source": [
    "# Test if rhyming dictionary outputs list of words that rhyme with corresponding last word of a line\n",
    "print(last[1700])\n",
    "print(syllables[1700])\n",
    "\n",
    "print(rhyme_sonnets[1700])\n",
    "# print(rhyme_all[1700])"
   ]
  }
 ],
 "metadata": {
  "kernelspec": {
   "display_name": "Python 3",
   "language": "python",
   "name": "python3"
  },
  "language_info": {
   "codemirror_mode": {
    "name": "ipython",
    "version": 3
   },
   "file_extension": ".py",
   "mimetype": "text/x-python",
   "name": "python",
   "nbconvert_exporter": "python",
   "pygments_lexer": "ipython3",
   "version": "3.6.9"
  }
 },
 "nbformat": 4,
 "nbformat_minor": 2
}

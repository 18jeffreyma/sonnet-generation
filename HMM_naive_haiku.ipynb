{
 "cells": [
  {
   "cell_type": "code",
   "execution_count": 13,
   "metadata": {
    "ExecuteTime": {
     "end_time": "2020-03-24T08:34:29.288677Z",
     "start_time": "2020-03-24T08:34:29.286678Z"
    }
   },
   "outputs": [],
   "source": [
    "from pickle import load\n",
    "import os"
   ]
  },
  {
   "cell_type": "code",
   "execution_count": 14,
   "metadata": {
    "ExecuteTime": {
     "end_time": "2020-03-24T08:34:30.276072Z",
     "start_time": "2020-03-24T08:34:30.263954Z"
    }
   },
   "outputs": [],
   "source": [
    "# Getting syllable dictionary\n",
    "syllable_dict = {}\n",
    "file = open(os.path.join(os.getcwd(),\n",
    "                'data/Syllable_dictionary.txt')).read()\n",
    "lines = [line.split() for line in file.split('\\n') if line.split()]\n",
    "\n",
    "for line in lines:\n",
    "    real, end = [], []\n",
    "    for i in range(1, len(line)):\n",
    "        if line[i][0] == 'E':\n",
    "            end.append(int(line[i][1]))\n",
    "        else:\n",
    "            real.append(int(line[i][0]))\n",
    "    syllable_dict[line[0]] = [real[::-1], end[::-1]]\n"
   ]
  },
  {
   "cell_type": "code",
   "execution_count": 16,
   "metadata": {
    "ExecuteTime": {
     "end_time": "2020-03-24T08:34:37.244179Z",
     "start_time": "2020-03-24T08:34:37.239505Z"
    }
   },
   "outputs": [],
   "source": [
    "hmm20 = load(open('hmm_model/naive_hmm20.hmm', 'rb'))\n",
    "obs_map = load(open('hmm_model/naive_obs_map.hmm', 'rb'))"
   ]
  },
  {
   "cell_type": "code",
   "execution_count": 17,
   "metadata": {
    "ExecuteTime": {
     "end_time": "2020-03-24T08:34:38.417012Z",
     "start_time": "2020-03-24T08:34:38.411699Z"
    }
   },
   "outputs": [],
   "source": [
    "def invert_obs_map(o_map):\n",
    "    new_obs_map = dict()\n",
    "    \n",
    "    for key, val in o_map.items():\n",
    "        new_obs_map[val] = key\n",
    "    return new_obs_map\n",
    "\n",
    "def generate_sample_sentence(my_hmm, inv_obs_map, syl_dict, n_syl=10):\n",
    "    emission, states = my_hmm.generate_sonnet_emission(n_syl, inv_obs_map, syl_dict)\n",
    "    \n",
    "    sentence = [inv_obs_map[elem] for elem in emission]\n",
    "    sentence[0] = sentence[0].capitalize()\n",
    "    \n",
    "    return \" \".join(sentence)\n",
    "\n",
    "def get_sample_haiku(my_hmm, obs_map, syl_dict):\n",
    "    \n",
    "    haiku = []\n",
    "    \n",
    "    inv_o_map = invert_obs_map(obs_map)\n",
    "    \n",
    "    haiku.append(generate_sample_sentence(my_hmm, inv_o_map, syl_dict, n_syl=5))\n",
    "    haiku.append(generate_sample_sentence(my_hmm, inv_o_map, syl_dict, n_syl=7))\n",
    "    haiku.append(generate_sample_sentence(my_hmm, inv_o_map, syl_dict, n_syl=5))\n",
    "        \n",
    "    return \"\\n\".join(haiku)"
   ]
  },
  {
   "cell_type": "code",
   "execution_count": 18,
   "metadata": {
    "ExecuteTime": {
     "end_time": "2020-03-24T08:34:40.678353Z",
     "start_time": "2020-03-24T08:34:40.669295Z"
    }
   },
   "outputs": [
    {
     "name": "stdout",
     "output_type": "stream",
     "text": [
      "So no have now of\n",
      "In thee full times limping thought\n",
      "As you gazers praise\n"
     ]
    }
   ],
   "source": [
    "print(get_sample_haiku(hmm20, obs_map, syllable_dict))"
   ]
  },
  {
   "cell_type": "code",
   "execution_count": null,
   "metadata": {},
   "outputs": [],
   "source": []
  }
 ],
 "metadata": {
  "kernelspec": {
   "display_name": "Python 3",
   "language": "python",
   "name": "python3"
  },
  "language_info": {
   "codemirror_mode": {
    "name": "ipython",
    "version": 3
   },
   "file_extension": ".py",
   "mimetype": "text/x-python",
   "name": "python",
   "nbconvert_exporter": "python",
   "pygments_lexer": "ipython3",
   "version": "3.6.8"
  },
  "latex_envs": {
   "LaTeX_envs_menu_present": true,
   "autoclose": false,
   "autocomplete": true,
   "bibliofile": "biblio.bib",
   "cite_by": "apalike",
   "current_citInitial": 1,
   "eqLabelWithNumbers": true,
   "eqNumInitial": 1,
   "hotkeys": {
    "equation": "Ctrl-E",
    "itemize": "Ctrl-I"
   },
   "labels_anchors": false,
   "latex_user_defs": false,
   "report_style_numbering": false,
   "user_envs_cfg": false
  },
  "varInspector": {
   "cols": {
    "lenName": 16,
    "lenType": 16,
    "lenVar": 40
   },
   "kernels_config": {
    "python": {
     "delete_cmd_postfix": "",
     "delete_cmd_prefix": "del ",
     "library": "var_list.py",
     "varRefreshCmd": "print(var_dic_list())"
    },
    "r": {
     "delete_cmd_postfix": ") ",
     "delete_cmd_prefix": "rm(",
     "library": "var_list.r",
     "varRefreshCmd": "cat(var_dic_list()) "
    }
   },
   "types_to_exclude": [
    "module",
    "function",
    "builtin_function_or_method",
    "instance",
    "_Feature"
   ],
   "window_display": false
  }
 },
 "nbformat": 4,
 "nbformat_minor": 2
}

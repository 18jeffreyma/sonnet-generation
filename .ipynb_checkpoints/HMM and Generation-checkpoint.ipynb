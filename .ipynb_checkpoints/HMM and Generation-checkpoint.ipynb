{
 "cells": [
  {
   "cell_type": "code",
   "execution_count": 16,
   "metadata": {},
   "outputs": [],
   "source": [
    "import os\n",
    "import re\n",
    "import numpy as np\n",
    "from IPython.display import HTML\n",
    "\n",
    "from HMM import unsupervised_HMM\n",
    "from HMM_helper import (\n",
    "    text_to_wordcloud,\n",
    "    states_to_wordclouds,\n",
    "    parse_observations,\n",
    "    sample_sentence,\n",
    "    visualize_sparsities,\n",
    "    animate_emission\n",
    ")"
   ]
  },
  {
   "cell_type": "markdown",
   "metadata": {},
   "source": [
    "### Training Unsupervised HMM"
   ]
  },
  {
   "cell_type": "markdown",
   "metadata": {},
   "source": [
    "#### Testing with different numbers of hidden states"
   ]
  },
  {
   "cell_type": "code",
   "execution_count": 2,
   "metadata": {},
   "outputs": [],
   "source": [
    "text = open(os.path.join(os.getcwd(), 'data/shakespeare_cleaned.txt')).read()\n",
    "obs, obs_map = parse_observations(text)"
   ]
  },
  {
   "cell_type": "code",
   "execution_count": null,
   "metadata": {},
   "outputs": [],
   "source": [
    "hmm10 = unsupervised_HMM(obs, 10, 100)"
   ]
  },
  {
   "cell_type": "code",
   "execution_count": null,
   "metadata": {},
   "outputs": [],
   "source": [
    "hmm16 = unsupervised_HMM(obs, 16, 100)"
   ]
  },
  {
   "cell_type": "markdown",
   "metadata": {},
   "source": [
    "#### Sample Output"
   ]
  },
  {
   "cell_type": "code",
   "execution_count": 21,
   "metadata": {},
   "outputs": [],
   "source": [
    "# Getting syllable dictionary\n",
    "syllable_dict = {}\n",
    "with open('data/Syllable_dictionary.txt') as f:\n",
    "    for line in f.readlines():\n",
    "        curr_line = line.split()\n",
    "        syllable_dict[curr_line[0]] = re.sub(r'[^\\w]', '', curr_line[-1]).lower()"
   ]
  },
  {
   "cell_type": "code",
   "execution_count": 61,
   "metadata": {},
   "outputs": [],
   "source": [
    "def get_sample_sonnet(hmm, obs_map):\n",
    "    # Total of 14 lines, 10 syllables each. There are 3 quatrains (4 lines) and 1 couplet (2 lines)\n",
    "    sonnet = \"\"\n",
    "    full = sample_sentence(hmm, obs_map, n_words=150).split()\n",
    "    tot_syllable = 0\n",
    "    line_syllable = 0\n",
    "    line_num = 0\n",
    "    for word in full:\n",
    "        sonnet += word + \" \"\n",
    "        tot_syllable += int(syllable_dict[word.lower()])\n",
    "        line_syllable += int(syllable_dict[word.lower()])\n",
    "        if line_syllable >= 10:\n",
    "            # creating new line once we go over 10 syllables, but syllables do not carry over to next line\n",
    "            line_syllable = 0\n",
    "            line_num += 1\n",
    "            sonnet += \"\\n\"\n",
    "            if line_num % 4 == 0:\n",
    "                sonnet += \"\\n\"\n",
    "        if tot_syllable >= 140:\n",
    "            # once we have over 140 syllables we return our sonnet\n",
    "            break\n",
    "    return sonnet"
   ]
  },
  {
   "cell_type": "code",
   "execution_count": 8,
   "metadata": {
    "scrolled": false
   },
   "outputs": [
    {
     "name": "stdout",
     "output_type": "stream",
     "text": [
      "Iteration 0 of 10\n"
     ]
    },
    {
     "ename": "NameError",
     "evalue": "name 'hmm10' is not defined",
     "output_type": "error",
     "traceback": [
      "\u001b[1;31m---------------------------------------------------------------------------\u001b[0m",
      "\u001b[1;31mNameError\u001b[0m                                 Traceback (most recent call last)",
      "\u001b[1;32m<ipython-input-8-5ffde7889697>\u001b[0m in \u001b[0;36m<module>\u001b[1;34m\u001b[0m\n\u001b[0;32m      1\u001b[0m \u001b[1;31m# For testing\u001b[0m\u001b[1;33m\u001b[0m\u001b[1;33m\u001b[0m\u001b[1;33m\u001b[0m\u001b[0m\n\u001b[0;32m      2\u001b[0m \u001b[0mhmm1\u001b[0m \u001b[1;33m=\u001b[0m \u001b[0munsupervised_HMM\u001b[0m\u001b[1;33m(\u001b[0m\u001b[0mobs\u001b[0m\u001b[1;33m,\u001b[0m \u001b[1;36m1\u001b[0m\u001b[1;33m,\u001b[0m \u001b[1;36m10\u001b[0m\u001b[1;33m)\u001b[0m\u001b[1;33m\u001b[0m\u001b[1;33m\u001b[0m\u001b[0m\n\u001b[1;32m----> 3\u001b[1;33m \u001b[0mprint\u001b[0m\u001b[1;33m(\u001b[0m\u001b[0mget_sample_sonnet\u001b[0m\u001b[1;33m(\u001b[0m\u001b[0mhmm1\u001b[0m\u001b[1;33m,\u001b[0m \u001b[0mobs_map\u001b[0m\u001b[1;33m)\u001b[0m\u001b[1;33m)\u001b[0m\u001b[1;33m\u001b[0m\u001b[1;33m\u001b[0m\u001b[0m\n\u001b[0m",
      "\u001b[1;32m<ipython-input-7-83f28ea4712a>\u001b[0m in \u001b[0;36mget_sample_sonnet\u001b[1;34m(hmm, obs_map)\u001b[0m\n\u001b[0;32m      2\u001b[0m     \u001b[1;31m# Total of 14 lines, 10 syllables each. There are 3 quatrains (4 lines) and 1 couplet (2 lines)\u001b[0m\u001b[1;33m\u001b[0m\u001b[1;33m\u001b[0m\u001b[1;33m\u001b[0m\u001b[0m\n\u001b[0;32m      3\u001b[0m     \u001b[0msonnet\u001b[0m \u001b[1;33m=\u001b[0m \u001b[1;34m\"\"\u001b[0m\u001b[1;33m\u001b[0m\u001b[1;33m\u001b[0m\u001b[0m\n\u001b[1;32m----> 4\u001b[1;33m     \u001b[0mfull\u001b[0m \u001b[1;33m=\u001b[0m \u001b[0msample_sentence\u001b[0m\u001b[1;33m(\u001b[0m\u001b[0mhmm10\u001b[0m\u001b[1;33m,\u001b[0m \u001b[0mobs_map\u001b[0m\u001b[1;33m,\u001b[0m \u001b[0mn_words\u001b[0m\u001b[1;33m=\u001b[0m\u001b[1;36m150\u001b[0m\u001b[1;33m)\u001b[0m\u001b[1;33m.\u001b[0m\u001b[0msplit\u001b[0m\u001b[1;33m(\u001b[0m\u001b[1;33m)\u001b[0m\u001b[1;33m\u001b[0m\u001b[1;33m\u001b[0m\u001b[0m\n\u001b[0m\u001b[0;32m      5\u001b[0m     \u001b[0mtot_syllable\u001b[0m \u001b[1;33m=\u001b[0m \u001b[1;36m0\u001b[0m\u001b[1;33m\u001b[0m\u001b[1;33m\u001b[0m\u001b[0m\n\u001b[0;32m      6\u001b[0m     \u001b[0mline_syllable\u001b[0m \u001b[1;33m=\u001b[0m \u001b[1;36m0\u001b[0m\u001b[1;33m\u001b[0m\u001b[1;33m\u001b[0m\u001b[0m\n",
      "\u001b[1;31mNameError\u001b[0m: name 'hmm10' is not defined"
     ]
    }
   ],
   "source": [
    "# For testing\n",
    "hmm1 = unsupervised_HMM(obs, 1, 10)\n"
   ]
  },
  {
   "cell_type": "code",
   "execution_count": 70,
   "metadata": {},
   "outputs": [
    {
     "name": "stdout",
     "output_type": "stream",
     "text": [
      "Not excuse so account may with thy sure \n",
      "knowing should imprisoned is methods me \n",
      "decrepit trifles bear i than thereby \n",
      "and be costs praise shall mine time my cover \n",
      "\n",
      "in winters new brought of hunted thee you \n",
      "my should book a steal friends me thou which none \n",
      "stand not double leave issueless cold yet \n",
      "nor promise thy can looking world wrong edge \n",
      "\n",
      "which taught where commend in my that world forth \n",
      "to a and despised unfair but but \n",
      "each and your the takes should like loves she thy \n",
      "by dissuade lack together to salutation \n",
      "\n",
      "will place is of at death longer golden \n",
      "his former father gives absence \n"
     ]
    }
   ],
   "source": [
    "print(get_sample_sonnet(hmm1, obs_map))"
   ]
  },
  {
   "cell_type": "code",
   "execution_count": null,
   "metadata": {},
   "outputs": [],
   "source": [
    "print('Sample Sonnet:\\n====================')\n",
    "print(sample_sentence(hmm10, obs_map, n_words=25))"
   ]
  },
  {
   "cell_type": "code",
   "execution_count": null,
   "metadata": {},
   "outputs": [],
   "source": [
    "print('Sample Sonnet:\\n====================')\n",
    "print(sample_sentence(hmm16, obs_map, n_words=25))"
   ]
  },
  {
   "cell_type": "markdown",
   "metadata": {},
   "source": [
    "### Visualization"
   ]
  },
  {
   "cell_type": "markdown",
   "metadata": {},
   "source": [
    "#### Overall Wordcloud over All Sonnets"
   ]
  },
  {
   "cell_type": "code",
   "execution_count": null,
   "metadata": {},
   "outputs": [],
   "source": [
    "wordcloud = text_to_wordcloud(text, title='Shakespeare')"
   ]
  },
  {
   "cell_type": "markdown",
   "metadata": {},
   "source": [
    "#### Wordclouds for Each Hidden State"
   ]
  },
  {
   "cell_type": "code",
   "execution_count": null,
   "metadata": {},
   "outputs": [],
   "source": [
    "wordclouds = states_to_wordclouds(hmm10, obs_map)"
   ]
  },
  {
   "cell_type": "code",
   "execution_count": null,
   "metadata": {},
   "outputs": [],
   "source": [
    "wordclouds = states_to_wordclouds(hmm16, obs_map)"
   ]
  }
 ],
 "metadata": {
  "kernelspec": {
   "display_name": "Python 3",
   "language": "python",
   "name": "python3"
  },
  "language_info": {
   "codemirror_mode": {
    "name": "ipython",
    "version": 3
   },
   "file_extension": ".py",
   "mimetype": "text/x-python",
   "name": "python",
   "nbconvert_exporter": "python",
   "pygments_lexer": "ipython3",
   "version": "3.7.6"
  }
 },
 "nbformat": 4,
 "nbformat_minor": 4
}

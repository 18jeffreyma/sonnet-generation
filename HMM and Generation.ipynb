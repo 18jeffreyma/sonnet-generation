{
 "cells": [
  {
   "cell_type": "code",
   "execution_count": 2,
   "metadata": {},
   "outputs": [],
   "source": [
    "import os\n",
    "import re\n",
    "import numpy as np\n",
    "from IPython.display import HTML\n",
    "\n",
    "from HMM import unsupervised_HMM\n",
    "from HMM_helper import (\n",
    "    text_to_wordcloud,\n",
    "    states_to_wordclouds,\n",
    "    parse_observations,\n",
    "    sample_sentence,\n",
    "    visualize_sparsities,\n",
    "    animate_emission\n",
    ")"
   ]
  },
  {
   "cell_type": "markdown",
   "metadata": {},
   "source": [
    "### Training Unsupervised HMM"
   ]
  },
  {
   "cell_type": "markdown",
   "metadata": {},
   "source": [
    "#### Testing with different numbers of hidden states"
   ]
  },
  {
   "cell_type": "code",
   "execution_count": 3,
   "metadata": {},
   "outputs": [],
   "source": [
    "text = open(os.path.join(os.getcwd(), 'data/shakespeare_cleaned.txt')).read()\n",
    "obs, obs_map = parse_observations(text)"
   ]
  },
  {
   "cell_type": "code",
   "execution_count": null,
   "metadata": {},
   "outputs": [],
   "source": [
    "hmm10 = unsupervised_HMM(obs, 10, 100)"
   ]
  },
  {
   "cell_type": "code",
   "execution_count": null,
   "metadata": {},
   "outputs": [],
   "source": [
    "hmm16 = unsupervised_HMM(obs, 16, 100)"
   ]
  },
  {
   "cell_type": "markdown",
   "metadata": {},
   "source": [
    "#### Sample Output"
   ]
  },
  {
   "cell_type": "code",
   "execution_count": 8,
   "metadata": {},
   "outputs": [],
   "source": [
    "# Getting syllable dictionary\n",
    "syllable_dict = {}\n",
    "with open('data/Syllable_dictionary.txt') as f:\n",
    "    for line in f.readlines():\n",
    "        curr_line = line.split()\n",
    "        syllable_dict[re.sub(r'[^\\w]', '', curr_line[0]).lower()] = curr_line[-1]"
   ]
  },
  {
   "cell_type": "code",
   "execution_count": 16,
   "metadata": {},
   "outputs": [],
   "source": [
    "def get_sample_sonnet(hmm, obs_map):\n",
    "    # Total of 14 lines, 10 syllables each. There are 3 quatrains (4 lines) and 1 couplet (2 lines)\n",
    "    sonnet = \"\"\n",
    "    full = sample_sentence(hmm, obs_map, n_words=150).split()\n",
    "    line_syllable = 0\n",
    "    line_num = 0\n",
    "    for word in full:\n",
    "        if line_syllable == 0:\n",
    "            word = word.capitalize()\n",
    "        sonnet += word + \" \"\n",
    "        line_syllable += int(syllable_dict[word.lower()])\n",
    "        if line_syllable >= 10:\n",
    "            # creating new line once we go over 10 syllables, but syllables do not carry over to next line\n",
    "            line_syllable = 0\n",
    "            line_num += 1\n",
    "            sonnet += \"\\n\"\n",
    "            if line_num % 4 == 0:\n",
    "                sonnet += \"\\n\"\n",
    "        if line_num == 14:\n",
    "            # once we have over 14 lines we return our sonnet\n",
    "            break\n",
    "    return sonnet"
   ]
  },
  {
   "cell_type": "code",
   "execution_count": 6,
   "metadata": {
    "scrolled": false
   },
   "outputs": [
    {
     "name": "stdout",
     "output_type": "stream",
     "text": [
      "Iteration 0 of 10\n"
     ]
    }
   ],
   "source": [
    "# For testing\n",
    "hmm1 = unsupervised_HMM(obs, 1, 10)\n"
   ]
  },
  {
   "cell_type": "code",
   "execution_count": 17,
   "metadata": {},
   "outputs": [
    {
     "name": "stdout",
     "output_type": "stream",
     "text": [
      "To still lest for self more his thee thou thy \n",
      "Sound sight yhave means a day haply or our \n",
      "Me do forth within thee pourst forsake happy \n",
      "For call an minds clear looks so then surmount \n",
      "\n",
      "Be world thy that night loves mightst my praise in \n",
      "Not say to more shall goddess and the hence \n",
      "Him moving where hard dully full imaginary \n",
      "Will on the was hath and yet it thy madness \n",
      "\n",
      "To do since hath their error cannot say \n",
      "That thee then blame i even be which thou \n",
      "Go eat them shame my is not against with \n",
      "Painting bring shall mayst they from shame in bear \n",
      "\n",
      "To have and mistake do thou bends thy pay \n",
      "After remain rather thine thy doth affairs \n",
      "\n"
     ]
    }
   ],
   "source": [
    "print(get_sample_sonnet(hmm1, obs_map))"
   ]
  },
  {
   "cell_type": "code",
   "execution_count": null,
   "metadata": {},
   "outputs": [],
   "source": [
    "print('Sample Sonnet:\\n====================')\n",
    "print(sample_sentence(hmm10, obs_map, n_words=25))"
   ]
  },
  {
   "cell_type": "code",
   "execution_count": null,
   "metadata": {},
   "outputs": [],
   "source": [
    "print('Sample Sonnet:\\n====================')\n",
    "print(sample_sentence(hmm16, obs_map, n_words=25))"
   ]
  },
  {
   "cell_type": "markdown",
   "metadata": {},
   "source": [
    "### Visualization"
   ]
  },
  {
   "cell_type": "markdown",
   "metadata": {},
   "source": [
    "#### Overall Wordcloud over All Sonnets"
   ]
  },
  {
   "cell_type": "code",
   "execution_count": null,
   "metadata": {},
   "outputs": [],
   "source": [
    "wordcloud = text_to_wordcloud(text, title='Shakespeare')"
   ]
  },
  {
   "cell_type": "markdown",
   "metadata": {},
   "source": [
    "#### Wordclouds for Each Hidden State"
   ]
  },
  {
   "cell_type": "code",
   "execution_count": null,
   "metadata": {},
   "outputs": [],
   "source": [
    "wordclouds = states_to_wordclouds(hmm10, obs_map)"
   ]
  },
  {
   "cell_type": "code",
   "execution_count": null,
   "metadata": {},
   "outputs": [],
   "source": [
    "wordclouds = states_to_wordclouds(hmm16, obs_map)"
   ]
  }
 ],
 "metadata": {
  "kernelspec": {
   "display_name": "Python 3",
   "language": "python",
   "name": "python3"
  },
  "language_info": {
   "codemirror_mode": {
    "name": "ipython",
    "version": 3
   },
   "file_extension": ".py",
   "mimetype": "text/x-python",
   "name": "python",
   "nbconvert_exporter": "python",
   "pygments_lexer": "ipython3",
   "version": "3.7.6"
  }
 },
 "nbformat": 4,
 "nbformat_minor": 4
}
